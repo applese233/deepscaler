{
 "cells": [
  {
   "cell_type": "code",
   "execution_count": 7,
   "metadata": {},
   "outputs": [
    {
     "name": "stdout",
     "output_type": "stream",
     "text": [
      "  data_source                                             prompt ability  \\\n",
      "0         amc  [{'content': 'The user asks a question, and th...    math   \n",
      "1         amc  [{'content': 'The user asks a question, and th...    math   \n",
      "2         amc  [{'content': 'The user asks a question, and th...    math   \n",
      "3         amc  [{'content': 'The user asks a question, and th...    math   \n",
      "4         amc  [{'content': 'The user asks a question, and th...    math   \n",
      "\n",
      "                               reward_model                     extra_info  \n",
      "0  {'ground_truth': 142.0, 'style': 'rule'}  {'index': 0, 'split': 'test'}  \n",
      "1  {'ground_truth': 144.0, 'style': 'rule'}  {'index': 1, 'split': 'test'}  \n",
      "2   {'ground_truth': 81.0, 'style': 'rule'}  {'index': 2, 'split': 'test'}  \n",
      "3    {'ground_truth': 4.0, 'style': 'rule'}  {'index': 3, 'split': 'test'}  \n",
      "4   {'ground_truth': 13.0, 'style': 'rule'}  {'index': 4, 'split': 'test'}  \n"
     ]
    }
   ],
   "source": [
    "datap=\"/volume/ailab4sci/txie/ydl/Short-RL/deepscaler/deepscaler/data/ThinksimpleRL/amc.parquet\"\n",
    "#read parquet file\n",
    "import pandas as pd\n",
    "data=pd.read_parquet(datap)\n",
    "print(data.head())"
   ]
  },
  {
   "cell_type": "code",
   "execution_count": 8,
   "metadata": {},
   "outputs": [
    {
     "data": {
      "text/plain": [
       "array([{'content': 'The user asks a question, and the Assistant solves it.The assistant first thinks about the reasoning process in the mind and then provides the user with the final answer. The reasoning process and answer are enclosed within <think> </think> and <answer> </answer> tags, respectively, i.e., <think> reasoning process here </think><answer> answer here </answer>. \\n\\nUser:$\\\\frac{m}{n}$ is the Irreducible fraction value of \\\\[3+\\\\frac{1}{3+\\\\frac{1}{3+\\\\frac13}}\\\\], what is the value of $m+n$?\\nAssistant: <think>', 'role': 'user'}],\n",
       "      dtype=object)"
      ]
     },
     "execution_count": 8,
     "metadata": {},
     "output_type": "execute_result"
    }
   ],
   "source": [
    "data.iloc[0][\"prompt\"]"
   ]
  }
 ],
 "metadata": {
  "language_info": {
   "name": "python"
  }
 },
 "nbformat": 4,
 "nbformat_minor": 2
}
